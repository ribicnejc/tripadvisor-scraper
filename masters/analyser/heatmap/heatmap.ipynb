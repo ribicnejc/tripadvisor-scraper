{
 "cells": [
  {
   "cell_type": "code",
   "execution_count": 5,
   "outputs": [],
   "source": [
    "import numpy as np\n",
    "import pandas as pd\n",
    "import gmaps\n",
    "import gmaps.datasets"
   ],
   "metadata": {
    "collapsed": false,
    "pycharm": {
     "name": "#%%\n"
    }
   }
  },
  {
   "cell_type": "code",
   "execution_count": 6,
   "outputs": [],
   "source": [
    "crime = pd.read_csv(\"crime.csv\", encoding='unicode_escape')\n",
    "gmaps.configure(api_key='YOUR_GOOGLE_MAPS_API_KEY')"
   ],
   "metadata": {
    "collapsed": false,
    "pycharm": {
     "name": "#%%\n"
    }
   }
  },
  {
   "cell_type": "code",
   "execution_count": 7,
   "outputs": [],
   "source": [
    "Lon = np.arange(-71.21, -71, 0.0021)\n",
    "Lat = np.arange(42.189, 42.427, 0.00238)\n",
    "Crime_counts = np.zeros((100, 100))\n",
    "crime_2018 = crime[crime['YEAR'] == 2018]"
   ],
   "metadata": {
    "collapsed": false,
    "pycharm": {
     "name": "#%%\n"
    }
   }
  },
  {
   "cell_type": "code",
   "execution_count": 8,
   "outputs": [],
   "source": [
    "for a in range(len(crime_2018)):\n",
    "    for b1 in range(100):\n",
    "        if Lat[b1] - 0.00105 <= crime_2018['Lat'].values[a] < Lat[b1] + 0.00105:\n",
    "            for b2 in range(100):\n",
    "                if Lon[b2] - 0.00119 <= crime_2018['Long'].values[a] < Lon[b2] + 0.00119:\n",
    "                    Crime_counts[b1, b2] += 1"
   ],
   "metadata": {
    "collapsed": false,
    "pycharm": {
     "name": "#%%\n"
    }
   }
  },
  {
   "cell_type": "code",
   "execution_count": 9,
   "outputs": [],
   "source": [
    "longitude_values = [Lon,]*100\n",
    "latitude_values = np.repeat(Lat,100)\n",
    "Crime_counts.resize((10000,))\n",
    "heatmap_data = {'Counts': Crime_counts, 'latitude': latitude_values, 'longitude' : np.concatenate(longitude_values)}\n",
    "df = pd.DataFrame(data=heatmap_data)\n",
    "locations = df[['latitude', 'longitude']]\n",
    "weights = df['Counts']\n",
    "new_york_coordinates = (30.2690717, 77.9910673)\n",
    "#fig = gmaps.figure(center=new_york_coordinates, zoom_level=17)\n",
    "fig = gmaps.figure()\n",
    "heatmap_layer = gmaps.heatmap_layer(locations, weights=weights)\n",
    "fig.add_layer(gmaps.heatmap_layer(locations, weights=weights))"
   ],
   "metadata": {
    "collapsed": false,
    "pycharm": {
     "name": "#%%\n"
    }
   }
  },
  {
   "cell_type": "code",
   "execution_count": 10,
   "outputs": [
    {
     "data": {
      "text/plain": "Figure(layout=FigureLayout(height='420px'))",
      "application/vnd.jupyter.widget-view+json": {
       "version_major": 2,
       "version_minor": 0,
       "model_id": "6d5bdfdfa7a744a8bed2193e7430af9d"
      }
     },
     "metadata": {},
     "output_type": "display_data"
    }
   ],
   "source": [
    "fig"
   ],
   "metadata": {
    "collapsed": false,
    "pycharm": {
     "name": "#%%\n"
    }
   }
  },
  {
   "cell_type": "code",
   "execution_count": 11,
   "outputs": [],
   "source": [
    "import numpy as np\n",
    "import pandas as pd\n",
    "import gmaps\n",
    "import gmaps.datasets"
   ],
   "metadata": {
    "collapsed": false,
    "pycharm": {
     "name": "#%%\n"
    }
   }
  }
 ],
 "metadata": {
  "kernelspec": {
   "display_name": "Python 3 (ipykernel)",
   "language": "python",
   "name": "python3"
  },
  "language_info": {
   "codemirror_mode": {
    "name": "ipython",
    "version": 3
   },
   "file_extension": ".py",
   "mimetype": "text/x-python",
   "name": "python",
   "nbconvert_exporter": "python",
   "pygments_lexer": "ipython3",
   "version": "3.9.7"
  }
 },
 "nbformat": 4,
 "nbformat_minor": 1
}